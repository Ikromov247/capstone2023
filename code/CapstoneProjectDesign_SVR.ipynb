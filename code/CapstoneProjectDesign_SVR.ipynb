{
  "nbformat": 4,
  "nbformat_minor": 0,
  "metadata": {
    "colab": {
      "provenance": []
    },
    "kernelspec": {
      "name": "python3",
      "display_name": "Python 3"
    },
    "language_info": {
      "name": "python"
    }
  },
  "cells": [
    {
      "cell_type": "code",
      "source": [
        "from google.colab import drive\n",
        "drive.mount('/content/drive')"
      ],
      "metadata": {
        "colab": {
          "base_uri": "https://localhost:8080/"
        },
        "id": "M2g48TOnsPWe",
        "outputId": "8fcd843e-fc4a-4a6f-bc3c-2c389a805e2b"
      },
      "execution_count": 1,
      "outputs": [
        {
          "output_type": "stream",
          "name": "stdout",
          "text": [
            "Drive already mounted at /content/drive; to attempt to forcibly remount, call drive.mount(\"/content/drive\", force_remount=True).\n"
          ]
        }
      ]
    },
    {
      "cell_type": "code",
      "source": [
        "!git clone https://github.com/Ikromov247/capstone2023.git"
      ],
      "metadata": {
        "colab": {
          "base_uri": "https://localhost:8080/"
        },
        "id": "sZRKHuWlkV6p",
        "outputId": "eddaad1d-41f4-451f-bf55-2f7b07f6cbd5"
      },
      "execution_count": 87,
      "outputs": [
        {
          "output_type": "stream",
          "name": "stdout",
          "text": [
            "Cloning into 'capstone2023'...\n",
            "remote: Enumerating objects: 45, done.\u001b[K\n",
            "remote: Counting objects: 100% (45/45), done.\u001b[K\n",
            "remote: Compressing objects: 100% (44/44), done.\u001b[K\n",
            "remote: Total 45 (delta 11), reused 0 (delta 0), pack-reused 0\u001b[K\n",
            "Receiving objects: 100% (45/45), 27.51 MiB | 15.55 MiB/s, done.\n",
            "Resolving deltas: 100% (11/11), done.\n"
          ]
        }
      ]
    },
    {
      "cell_type": "code",
      "source": [
        "# Step 1: Importing the libraries\n",
        "import numpy as np\n",
        "import matplotlib.pyplot as plt\n",
        "import pandas as pd"
      ],
      "metadata": {
        "id": "G3SuLUE-j8ne"
      },
      "execution_count": 69,
      "outputs": []
    },
    {
      "cell_type": "code",
      "source": [
        "# Step 2: Reading the dataset\n",
        "dataset = pd.read_excel('/content/drive/MyDrive/2022-12-01-2023-07-01(109지점).xls.xlsx')"
      ],
      "metadata": {
        "id": "mPkiU_dYkAq2"
      },
      "execution_count": 26,
      "outputs": []
    },
    {
      "cell_type": "code",
      "source": [
        "x_train = dataset.drop([\"ou\",\"pozip\"], axis=1, inplace=False).iloc[5:, 1:4]\n",
        "y_train = dataset.iloc[5:, 1]"
      ],
      "metadata": {
        "id": "rwzU7rbKdHNz"
      },
      "execution_count": 70,
      "outputs": []
    },
    {
      "cell_type": "code",
      "source": [
        "x_test = dataset.drop([\"ou\",\"pozip\"], axis=1, inplace=False).iloc[:5, 1:4]\n",
        "y_test = dataset.iloc[:5, 1]"
      ],
      "metadata": {
        "id": "5nIzdRlxdVTV"
      },
      "execution_count": 71,
      "outputs": []
    },
    {
      "cell_type": "code",
      "source": [
        "# fitting the dataset to model"
      ],
      "metadata": {
        "id": "ukNWjy8BgPvU"
      },
      "execution_count": null,
      "outputs": []
    },
    {
      "cell_type": "code",
      "source": [
        "# Convert the Series to a NumPy array using the 'values' attribute\n",
        "y_train = y_train.values\n",
        "y_test = y_test.values\n",
        "\n",
        "# Reshape the NumPy array into a 2D array with a single feature\n",
        "y_train = y_train.reshape(-1, 1)\n",
        "y_test = y_test.reshape(-1, 1)"
      ],
      "metadata": {
        "id": "NyjsV-t9pGud"
      },
      "execution_count": 72,
      "outputs": []
    },
    {
      "cell_type": "code",
      "source": [
        "# Step 3: Feature Scaling\n",
        "from sklearn.preprocessing import StandardScaler\n",
        "sc_x = StandardScaler()\n",
        "sc_y = StandardScaler()\n",
        "x_train = sc_x.fit_transform(x_train)\n",
        "y_train = sc_y.fit_transform(y_train)"
      ],
      "metadata": {
        "id": "nvp9TraHmrdx"
      },
      "execution_count": 73,
      "outputs": []
    },
    {
      "cell_type": "code",
      "source": [
        "\"\"\"\n",
        "y_train = y_train.ravel()\n",
        "y_test = y_test.ravel()\n",
        "\"\"\""
      ],
      "metadata": {
        "id": "RKZp0YBhqUHr"
      },
      "execution_count": 43,
      "outputs": []
    },
    {
      "cell_type": "code",
      "source": [
        "# Step 4: Fitting SVR to the dataset\n",
        "from sklearn.svm import SVR\n",
        "regressor = SVR(kernel = 'rbf')\n",
        "regressor.fit(x_train, y_train)"
      ],
      "metadata": {
        "id": "ymjfPoCskLym"
      },
      "execution_count": null,
      "outputs": []
    },
    {
      "cell_type": "code",
      "source": [
        "# Step 5. Predicting a new result\n",
        "y_pred = regressor.predict(x_test) #6.5"
      ],
      "metadata": {
        "colab": {
          "base_uri": "https://localhost:8080/"
        },
        "id": "RYVUf89mkP7w",
        "outputId": "07534cdf-be90-4638-f14f-3560dbd9caa9"
      },
      "execution_count": 83,
      "outputs": [
        {
          "output_type": "stream",
          "name": "stderr",
          "text": [
            "/usr/local/lib/python3.10/dist-packages/sklearn/base.py:432: UserWarning: X has feature names, but SVR was fitted without feature names\n",
            "  warnings.warn(\n"
          ]
        }
      ]
    },
    {
      "cell_type": "code",
      "source": [
        "#y_pred = y_pred.values\n",
        "y_pred = y_pred.reshape(-1, 1)\n",
        "\n",
        "y_pred = sc_y.inverse_transform(y_pred)"
      ],
      "metadata": {
        "id": "XHEmoCJWvp7R"
      },
      "execution_count": 84,
      "outputs": []
    },
    {
      "cell_type": "code",
      "source": [
        "y_pred"
      ],
      "metadata": {
        "colab": {
          "base_uri": "https://localhost:8080/"
        },
        "id": "7A3Ddeq9vrys",
        "outputId": "8668c060-ca08-4be1-9532-c7d8b648ca44"
      },
      "execution_count": 85,
      "outputs": [
        {
          "output_type": "execute_result",
          "data": {
            "text/plain": [
              "array([[5.57834364],\n",
              "       [5.61112956],\n",
              "       [5.63296691],\n",
              "       [5.6527634 ],\n",
              "       [5.66253414]])"
            ]
          },
          "metadata": {},
          "execution_count": 85
        }
      ]
    }
  ]
}