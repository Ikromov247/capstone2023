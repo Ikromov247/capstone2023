{
  "nbformat": 4,
  "nbformat_minor": 0,
  "metadata": {
    "colab": {
      "provenance": [],
      "gpuType": "T4"
    },
    "kernelspec": {
      "name": "python3",
      "display_name": "Python 3"
    },
    "language_info": {
      "name": "python"
    },
    "accelerator": "GPU"
  },
  "cells": [
    {
      "cell_type": "code",
      "execution_count": 1,
      "metadata": {
        "id": "_zgutWZgCy4o"
      },
      "outputs": [],
      "source": [
        "import pandas as pd\n",
        "import numpy as np\n",
        "import matplotlib.pyplot as plt\n",
        "\n",
        "data_path = \"/content/drive/MyDrive/capstone_data/2022-12-01-2023-07-01(109┴÷┴í).xls.xlsx\""
      ]
    },
    {
      "cell_type": "code",
      "source": [
        "data = pd.read_excel(data_path, usecols=[\"ou\", \"NH3\",\t\"H2S\",\t\"TVOCs\", \"temperature\",\t\"humidity\"])"
      ],
      "metadata": {
        "id": "nS44qWsAEUx2"
      },
      "execution_count": 2,
      "outputs": []
    },
    {
      "cell_type": "code",
      "source": [
        "data.drop(data[data[\"ou\"]>15].index, inplace=True)\n",
        "data.drop(data[data[\"TVOCs\"]>0.11].index, inplace=True)\n",
        "data.drop(data[data[\"NH3\"]<0.3].index, inplace=True)\n"
      ],
      "metadata": {
        "id": "p6HyJXSOJtcK"
      },
      "execution_count": 71,
      "outputs": []
    },
    {
      "cell_type": "code",
      "source": [
        "X = data.iloc[100:, 1:].values\n",
        "y = data.iloc[100:, :1].values\n",
        "\n",
        "x_test = data.iloc[:100, 1:].values\n",
        "y_test = data.iloc[:100, :1].values"
      ],
      "metadata": {
        "id": "qhyngHgmGxiL"
      },
      "execution_count": 3,
      "outputs": []
    },
    {
      "cell_type": "markdown",
      "source": [
        "# Linear"
      ],
      "metadata": {
        "id": "9zIp1rIyI6U1"
      }
    },
    {
      "cell_type": "code",
      "source": [
        "from sklearn import linear_model\n",
        "reg = linear_model.LinearRegression()\n",
        "reg.fit(X, y)"
      ],
      "metadata": {
        "colab": {
          "base_uri": "https://localhost:8080/",
          "height": 75
        },
        "id": "kV8oiqPREO2g",
        "outputId": "0281755f-036d-4dff-f196-bafea811e447"
      },
      "execution_count": null,
      "outputs": [
        {
          "output_type": "execute_result",
          "data": {
            "text/plain": [
              "LinearRegression()"
            ],
            "text/html": [
              "<style>#sk-container-id-3 {color: black;background-color: white;}#sk-container-id-3 pre{padding: 0;}#sk-container-id-3 div.sk-toggleable {background-color: white;}#sk-container-id-3 label.sk-toggleable__label {cursor: pointer;display: block;width: 100%;margin-bottom: 0;padding: 0.3em;box-sizing: border-box;text-align: center;}#sk-container-id-3 label.sk-toggleable__label-arrow:before {content: \"▸\";float: left;margin-right: 0.25em;color: #696969;}#sk-container-id-3 label.sk-toggleable__label-arrow:hover:before {color: black;}#sk-container-id-3 div.sk-estimator:hover label.sk-toggleable__label-arrow:before {color: black;}#sk-container-id-3 div.sk-toggleable__content {max-height: 0;max-width: 0;overflow: hidden;text-align: left;background-color: #f0f8ff;}#sk-container-id-3 div.sk-toggleable__content pre {margin: 0.2em;color: black;border-radius: 0.25em;background-color: #f0f8ff;}#sk-container-id-3 input.sk-toggleable__control:checked~div.sk-toggleable__content {max-height: 200px;max-width: 100%;overflow: auto;}#sk-container-id-3 input.sk-toggleable__control:checked~label.sk-toggleable__label-arrow:before {content: \"▾\";}#sk-container-id-3 div.sk-estimator input.sk-toggleable__control:checked~label.sk-toggleable__label {background-color: #d4ebff;}#sk-container-id-3 div.sk-label input.sk-toggleable__control:checked~label.sk-toggleable__label {background-color: #d4ebff;}#sk-container-id-3 input.sk-hidden--visually {border: 0;clip: rect(1px 1px 1px 1px);clip: rect(1px, 1px, 1px, 1px);height: 1px;margin: -1px;overflow: hidden;padding: 0;position: absolute;width: 1px;}#sk-container-id-3 div.sk-estimator {font-family: monospace;background-color: #f0f8ff;border: 1px dotted black;border-radius: 0.25em;box-sizing: border-box;margin-bottom: 0.5em;}#sk-container-id-3 div.sk-estimator:hover {background-color: #d4ebff;}#sk-container-id-3 div.sk-parallel-item::after {content: \"\";width: 100%;border-bottom: 1px solid gray;flex-grow: 1;}#sk-container-id-3 div.sk-label:hover label.sk-toggleable__label {background-color: #d4ebff;}#sk-container-id-3 div.sk-serial::before {content: \"\";position: absolute;border-left: 1px solid gray;box-sizing: border-box;top: 0;bottom: 0;left: 50%;z-index: 0;}#sk-container-id-3 div.sk-serial {display: flex;flex-direction: column;align-items: center;background-color: white;padding-right: 0.2em;padding-left: 0.2em;position: relative;}#sk-container-id-3 div.sk-item {position: relative;z-index: 1;}#sk-container-id-3 div.sk-parallel {display: flex;align-items: stretch;justify-content: center;background-color: white;position: relative;}#sk-container-id-3 div.sk-item::before, #sk-container-id-3 div.sk-parallel-item::before {content: \"\";position: absolute;border-left: 1px solid gray;box-sizing: border-box;top: 0;bottom: 0;left: 50%;z-index: -1;}#sk-container-id-3 div.sk-parallel-item {display: flex;flex-direction: column;z-index: 1;position: relative;background-color: white;}#sk-container-id-3 div.sk-parallel-item:first-child::after {align-self: flex-end;width: 50%;}#sk-container-id-3 div.sk-parallel-item:last-child::after {align-self: flex-start;width: 50%;}#sk-container-id-3 div.sk-parallel-item:only-child::after {width: 0;}#sk-container-id-3 div.sk-dashed-wrapped {border: 1px dashed gray;margin: 0 0.4em 0.5em 0.4em;box-sizing: border-box;padding-bottom: 0.4em;background-color: white;}#sk-container-id-3 div.sk-label label {font-family: monospace;font-weight: bold;display: inline-block;line-height: 1.2em;}#sk-container-id-3 div.sk-label-container {text-align: center;}#sk-container-id-3 div.sk-container {/* jupyter's `normalize.less` sets `[hidden] { display: none; }` but bootstrap.min.css set `[hidden] { display: none !important; }` so we also need the `!important` here to be able to override the default hidden behavior on the sphinx rendered scikit-learn.org. See: https://github.com/scikit-learn/scikit-learn/issues/21755 */display: inline-block !important;position: relative;}#sk-container-id-3 div.sk-text-repr-fallback {display: none;}</style><div id=\"sk-container-id-3\" class=\"sk-top-container\"><div class=\"sk-text-repr-fallback\"><pre>LinearRegression()</pre><b>In a Jupyter environment, please rerun this cell to show the HTML representation or trust the notebook. <br />On GitHub, the HTML representation is unable to render, please try loading this page with nbviewer.org.</b></div><div class=\"sk-container\" hidden><div class=\"sk-item\"><div class=\"sk-estimator sk-toggleable\"><input class=\"sk-toggleable__control sk-hidden--visually\" id=\"sk-estimator-id-3\" type=\"checkbox\" checked><label for=\"sk-estimator-id-3\" class=\"sk-toggleable__label sk-toggleable__label-arrow\">LinearRegression</label><div class=\"sk-toggleable__content\"><pre>LinearRegression()</pre></div></div></div></div></div>"
            ]
          },
          "metadata": {},
          "execution_count": 36
        }
      ]
    },
    {
      "cell_type": "code",
      "source": [
        "reg.coef_"
      ],
      "metadata": {
        "colab": {
          "base_uri": "https://localhost:8080/"
        },
        "id": "LVFp4xraHV8L",
        "outputId": "872e4ec7-e39c-4db3-93c9-ddd2a1504f30"
      },
      "execution_count": null,
      "outputs": [
        {
          "output_type": "execute_result",
          "data": {
            "text/plain": [
              "array([[  5.88287997, -12.45883565,  23.9500831 ,   0.06184134,\n",
              "          0.34476317]])"
            ]
          },
          "metadata": {},
          "execution_count": 37
        }
      ]
    },
    {
      "cell_type": "code",
      "source": [
        "prediction_linear = reg.predict(x_test)\n",
        "error_linear = np.subtract(prediction_linear, y_test)\n",
        "# MSE = 1/n * Σ(yi - ŷi)^2\n",
        "cost_linear = np.sum(np.square(error_linear)) / x_test.shape[0]"
      ],
      "metadata": {
        "id": "ZHkLz8YdHoDi"
      },
      "execution_count": null,
      "outputs": []
    },
    {
      "cell_type": "code",
      "source": [
        "error_linear"
      ],
      "metadata": {
        "id": "6-_BqkzLINLr"
      },
      "execution_count": null,
      "outputs": []
    },
    {
      "cell_type": "code",
      "source": [
        "cost_linear"
      ],
      "metadata": {
        "colab": {
          "base_uri": "https://localhost:8080/"
        },
        "id": "uN7-AatfIcBu",
        "outputId": "3ca55079-71cd-44fd-f3da-ba8f5ae0e114"
      },
      "execution_count": null,
      "outputs": [
        {
          "output_type": "execute_result",
          "data": {
            "text/plain": [
              "2.1642960830160907"
            ]
          },
          "metadata": {},
          "execution_count": 55
        }
      ]
    },
    {
      "cell_type": "markdown",
      "source": [
        "# Non-linear\n"
      ],
      "metadata": {
        "id": "x9rUPPxRI7XS"
      }
    },
    {
      "cell_type": "markdown",
      "source": [
        "##Trees"
      ],
      "metadata": {
        "id": "8PDFcjypUmWH"
      }
    },
    {
      "cell_type": "code",
      "source": [
        "from sklearn import tree\n",
        "# decision tree, max_depth=no limit\n",
        "clf = tree.DecisionTreeRegressor()\n",
        "clf = clf.fit(X, y)"
      ],
      "metadata": {
        "id": "TJrcjJhdI4mx"
      },
      "execution_count": null,
      "outputs": []
    },
    {
      "cell_type": "code",
      "source": [
        "prediction_tree = clf.predict(x_test)\n",
        "error = np.subtract(prediction_tree, y_test)\n",
        "# MSE = 1/n * Σ(yi - ŷi)^2\n",
        "cost_tree = np.sum(np.square(error)) / x_test.shape[0]"
      ],
      "metadata": {
        "id": "cyY0vKIVMNbS"
      },
      "execution_count": null,
      "outputs": []
    },
    {
      "cell_type": "code",
      "source": [
        "cost_tree"
      ],
      "metadata": {
        "colab": {
          "base_uri": "https://localhost:8080/"
        },
        "id": "W3juadbuMQ6o",
        "outputId": "3d9aadc4-7298-46c3-84f0-598b745f9e56"
      },
      "execution_count": null,
      "outputs": [
        {
          "output_type": "execute_result",
          "data": {
            "text/plain": [
              "167.4208"
            ]
          },
          "metadata": {},
          "execution_count": 50
        }
      ]
    },
    {
      "cell_type": "code",
      "source": [
        "# decision tree, max_depth = 10000\n",
        "\n",
        "clf_2 = tree.DecisionTreeRegressor(max_depth=10000)\n",
        "clf_2 = clf_2.fit(X, y)"
      ],
      "metadata": {
        "id": "wldpamdxO3nO"
      },
      "execution_count": 58,
      "outputs": []
    },
    {
      "cell_type": "code",
      "source": [
        "prediction_tree_2 = clf_2.predict(x_test)\n",
        "error_2 = np.subtract(prediction_tree_2, y_test)\n",
        "# MSE = 1/n * Σ(yi - ŷi)^2\n",
        "cost_tree_2 = np.sum(np.square(error_2)) / x_test.shape[0]"
      ],
      "metadata": {
        "id": "D9ffx7uCRwvv"
      },
      "execution_count": 59,
      "outputs": []
    },
    {
      "cell_type": "code",
      "source": [
        "cost_tree_2"
      ],
      "metadata": {
        "colab": {
          "base_uri": "https://localhost:8080/"
        },
        "id": "f8NJQvukR9RH",
        "outputId": "6067557d-2089-43c7-d141-4c643a4da1c4"
      },
      "execution_count": 60,
      "outputs": [
        {
          "output_type": "execute_result",
          "data": {
            "text/plain": [
              "182.636"
            ]
          },
          "metadata": {},
          "execution_count": 60
        }
      ]
    },
    {
      "cell_type": "code",
      "source": [
        "clf_3 = tree.DecisionTreeRegressor(max_depth=1000)\n",
        "clf_3 = clf_3.fit(X, y)"
      ],
      "metadata": {
        "id": "IJvl65AKUHCO"
      },
      "execution_count": 63,
      "outputs": []
    },
    {
      "cell_type": "code",
      "source": [
        "prediction_tree_3 = clf_3.predict(x_test)\n",
        "error_3 = np.subtract(prediction_tree_3, y_test)\n",
        "# MSE = 1/n * Σ(yi - ŷi)^2\n",
        "cost_tree_3 = np.sum(np.square(error_3)) / x_test.shape[0]"
      ],
      "metadata": {
        "id": "rpKIvgbIUItm"
      },
      "execution_count": 64,
      "outputs": []
    },
    {
      "cell_type": "code",
      "source": [
        "cost_tree_3"
      ],
      "metadata": {
        "colab": {
          "base_uri": "https://localhost:8080/"
        },
        "id": "6nwb_rieUS3u",
        "outputId": "e1de2ed3-4bc2-48c9-e517-cafc24b8d41c"
      },
      "execution_count": 65,
      "outputs": [
        {
          "output_type": "execute_result",
          "data": {
            "text/plain": [
              "146.36880000000002"
            ]
          },
          "metadata": {},
          "execution_count": 65
        }
      ]
    },
    {
      "cell_type": "code",
      "source": [
        "clf_4 = tree.DecisionTreeRegressor(max_depth=100)\n",
        "clf_4 = clf_4.fit(X, y)\n",
        "prediction_tree_4 = clf_4.predict(x_test)\n",
        "error_4 = np.subtract(prediction_tree_4, y_test)\n",
        "# MSE = 1/n * Σ(yi - ŷi)^2\n",
        "cost_tree_4 = np.sum(np.square(error_4)) / x_test.shape[0]"
      ],
      "metadata": {
        "id": "IDtWhg4EUWen"
      },
      "execution_count": 66,
      "outputs": []
    },
    {
      "cell_type": "code",
      "source": [
        "cost_tree_4"
      ],
      "metadata": {
        "colab": {
          "base_uri": "https://localhost:8080/"
        },
        "id": "xnQj1HujUfJv",
        "outputId": "97402a7a-2594-490c-e03b-67d8076ad528"
      },
      "execution_count": 67,
      "outputs": [
        {
          "output_type": "execute_result",
          "data": {
            "text/plain": [
              "176.09440000000004"
            ]
          },
          "metadata": {},
          "execution_count": 67
        }
      ]
    },
    {
      "cell_type": "markdown",
      "source": [
        "#Neural network"
      ],
      "metadata": {
        "id": "ZKaZbk7ulS9i"
      }
    },
    {
      "cell_type": "code",
      "source": [
        "import seaborn as sns\n",
        "import tensorflow as tf\n",
        "\n",
        "from tensorflow import keras\n",
        "from tensorflow.keras import layers\n",
        "\n",
        "print(tf.__version__)"
      ],
      "metadata": {
        "colab": {
          "base_uri": "https://localhost:8080/"
        },
        "id": "1DWy5wn_lWXx",
        "outputId": "4af6c032-b95a-4663-a1f5-19045a854405"
      },
      "execution_count": 5,
      "outputs": [
        {
          "output_type": "stream",
          "name": "stdout",
          "text": [
            "2.13.0\n"
          ]
        }
      ]
    },
    {
      "cell_type": "code",
      "source": [
        "X_2 = data.iloc[100:, 1:]\n",
        "y_2 = data.iloc[100:, :1]"
      ],
      "metadata": {
        "id": "JX8e6nQ3u5wL"
      },
      "execution_count": 4,
      "outputs": []
    },
    {
      "cell_type": "code",
      "source": [
        "model = keras.Sequential([\n",
        "      layers.Input(shape=(5,1)),\n",
        "      layers.Dense(64, activation='relu'),\n",
        "      layers.Dense(64, activation='relu'),\n",
        "      layers.Dense(32, activation='relu'),\n",
        "      layers.Dense(1)\n",
        "  ])\n",
        "\n",
        "model.compile(loss='mean_absolute_error',\n",
        "                optimizer=tf.keras.optimizers.Adam(0.01))"
      ],
      "metadata": {
        "id": "81rXO0d0shiC"
      },
      "execution_count": 6,
      "outputs": []
    },
    {
      "cell_type": "code",
      "source": [
        "%%time\n",
        "history = model.fit(\n",
        "    X_2,\n",
        "    y_2,\n",
        "    validation_split=0.2,\n",
        "    verbose=0, epochs=100)"
      ],
      "metadata": {
        "colab": {
          "base_uri": "https://localhost:8080/"
        },
        "id": "47uUy6OVsxUb",
        "outputId": "3ca4e568-3a05-4b95-f6ce-98e5b5e3d624"
      },
      "execution_count": 7,
      "outputs": [
        {
          "output_type": "stream",
          "name": "stdout",
          "text": [
            "CPU times: user 11min 25s, sys: 56.7 s, total: 12min 22s\n",
            "Wall time: 10min 22s\n"
          ]
        }
      ]
    },
    {
      "cell_type": "code",
      "source": [
        "plt.plot(history.history['loss'], label='loss')\n",
        "# plt.plot(history.history['val_loss'], label='val_loss')\n",
        "# plt.ylim([0, 3])\n",
        "plt.xlabel('Epoch')\n",
        "plt.ylabel('Error [OU]')\n",
        "plt.legend()\n",
        "plt.grid(True)"
      ],
      "metadata": {
        "colab": {
          "base_uri": "https://localhost:8080/",
          "height": 449
        },
        "id": "W2JPuJ0Ruhjr",
        "outputId": "515b0480-b176-412f-d7c2-6452a5d89987"
      },
      "execution_count": 11,
      "outputs": [
        {
          "output_type": "display_data",
          "data": {
            "text/plain": [
              "<Figure size 640x480 with 1 Axes>"
            ],
            "image/png": "[encoded data removed]"
          },
          "metadata": {}
        }
      ]
    },
    {
      "cell_type": "code",
      "source": [
        "history.history[\"loss\"]"
      ],
      "metadata": {
        "id": "WWRZSu9QtBiM"
      },
      "execution_count": null,
      "outputs": []
    },
    {
      "cell_type": "code",
      "source": [
        "x_test_2 = data.iloc[:100, 1:]\n",
        "y_test_2 = data.iloc[:100, :1]"
      ],
      "metadata": {
        "id": "9YYT-kHF25Oc"
      },
      "execution_count": 19,
      "outputs": []
    },
    {
      "cell_type": "code",
      "source": [
        "prediction_nn = model.evaluate(x_test_2, y_test_2)\n",
        "print(\"test loss, test acc:\", prediction_nn)"
      ],
      "metadata": {
        "colab": {
          "base_uri": "https://localhost:8080/"
        },
        "id": "ysLHGEnN1jEE",
        "outputId": "871a7ff9-6854-4c71-caaf-d53bd19fd1aa"
      },
      "execution_count": 20,
      "outputs": [
        {
          "output_type": "stream",
          "name": "stdout",
          "text": [
            "4/4 [==============================] - 0s 4ms/step - loss: 1.8795\n",
            "test loss, test acc: 1.8795173168182373\n"
          ]
        }
      ]
    },
    {
      "cell_type": "code",
      "source": [
        "prediction_nn"
      ],
      "metadata": {
        "colab": {
          "base_uri": "https://localhost:8080/"
        },
        "id": "wihtC7vd3v7k",
        "outputId": "a9e41bc7-74f5-430c-91fc-6464fd9de03e"
      },
      "execution_count": 21,
      "outputs": [
        {
          "output_type": "execute_result",
          "data": {
            "text/plain": [
              "1.8795173168182373"
            ]
          },
          "metadata": {},
          "execution_count": 21
        }
      ]
    }
  ]
}