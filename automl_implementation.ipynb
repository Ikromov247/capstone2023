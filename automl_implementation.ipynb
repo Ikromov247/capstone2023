{
  "nbformat": 4,
  "nbformat_minor": 0,
  "metadata": {
    "colab": {
      "provenance": [],
      "gpuType": "T4"
    },
    "kernelspec": {
      "name": "python3",
      "display_name": "Python 3"
    },
    "language_info": {
      "name": "python"
    },
    "accelerator": "GPU"
  },
  "cells": [
    {
      "cell_type": "markdown",
      "source": [
        "https://autokeras.com/tutorial/export/\n"
      ],
      "metadata": {
        "id": "erloGt2RjfVa"
      }
    },
    {
      "cell_type": "code",
      "execution_count": null,
      "metadata": {
        "id": "J4L0nekfHzYU"
      },
      "outputs": [],
      "source": [
        "!pip install git+https://github.com/keras-team/keras-tuner.git\n",
        "!pip install autokeras"
      ]
    },
    {
      "cell_type": "code",
      "source": [
        "!pip install keras-tuner==1.3\n",
        "\n",
        "!pip install typing-extensions --upgrade"
      ],
      "metadata": {
        "id": "x_-1asJ9OJCe"
      },
      "execution_count": null,
      "outputs": []
    },
    {
      "cell_type": "code",
      "source": [
        "import numpy as np\n",
        "import pandas as pd\n",
        "import tensorflow as tf\n",
        "\n",
        "import autokeras as ak"
      ],
      "metadata": {
        "colab": {
          "base_uri": "https://localhost:8080/"
        },
        "id": "n0BHB5FFLkE-",
        "outputId": "821d4f30-88c2-4710-bffc-5ab024039241"
      },
      "execution_count": 3,
      "outputs": [
        {
          "output_type": "stream",
          "name": "stdout",
          "text": [
            "Using TensorFlow backend\n"
          ]
        }
      ]
    },
    {
      "cell_type": "code",
      "source": [
        "dataset = pd.read_excel(\"/content/drive/MyDrive/capstone_data/2022-12-01-2023-07-01(109┴÷┴í).xls.xlsx\", usecols=[\"ou\", \"H2S\",\"NH3\", \"TVOCs\", \"temperature\", \"humidity\"])\n",
        "train_size = int(dataset.shape[0] * 0.9)\n",
        "\n",
        "dataset[:train_size].to_csv(\"train.csv\", index=False)\n",
        "dataset[train_size:].to_csv(\"eval.csv\", index=False)\n"
      ],
      "metadata": {
        "id": "COhWK6SyM122"
      },
      "execution_count": 45,
      "outputs": []
    },
    {
      "cell_type": "code",
      "source": [
        "train_file_path = \"train.csv\"\n",
        "test_file_path = \"eval.csv\""
      ],
      "metadata": {
        "id": "WrzFlWH7TpxP"
      },
      "execution_count": 46,
      "outputs": []
    },
    {
      "cell_type": "code",
      "source": [
        "# Initialize the structured data regressor.\n",
        "reg = ak.StructuredDataRegressor(\n",
        "    overwrite=True, max_trials=5\n",
        ")  # It tries 3 different models.\n",
        "# Feed the structured data regressor with training data.\n",
        "reg.fit(\n",
        "    # The path to the train.csv file.\n",
        "    train_file_path,\n",
        "    # The name of the label column.\n",
        "    \"ou\",\n",
        "    validation_split=0.15,\n",
        "    epochs=15,\n",
        ")\n",
        "\n",
        "# Predict with the best model.\n",
        "predicted_y = reg.predict(test_file_path)\n",
        "# Evaluate the best model with testing data.\n",
        "print(reg.evaluate(test_file_path, \"ou\"))\n"
      ],
      "metadata": {
        "colab": {
          "base_uri": "https://localhost:8080/"
        },
        "id": "Glo16mgkMzHf",
        "outputId": "1572783e-aa8d-41d2-c67b-d472353a0a82"
      },
      "execution_count": 48,
      "outputs": [
        {
          "output_type": "stream",
          "name": "stdout",
          "text": [
            "Trial 5 Complete [00h 02m 29s]\n",
            "val_loss: 1.3815068006515503\n",
            "\n",
            "Best val_loss So Far: 1.3815068006515503\n",
            "Total elapsed time: 00h 12m 27s\n",
            "Epoch 1/15\n",
            "1572/1572 [==============================] - 8s 5ms/step - loss: 2.9659 - mean_squared_error: 2.9659\n",
            "Epoch 2/15\n",
            "1572/1572 [==============================] - 9s 6ms/step - loss: 2.8762 - mean_squared_error: 2.8762\n",
            "Epoch 3/15\n",
            "1572/1572 [==============================] - 8s 5ms/step - loss: 2.8750 - mean_squared_error: 2.8750\n",
            "Epoch 4/15\n",
            "1572/1572 [==============================] - 9s 5ms/step - loss: 2.8110 - mean_squared_error: 2.8110\n",
            "Epoch 5/15\n",
            "1572/1572 [==============================] - 8s 5ms/step - loss: 2.8258 - mean_squared_error: 2.8258\n",
            "Epoch 6/15\n",
            "1572/1572 [==============================] - 8s 5ms/step - loss: 2.8162 - mean_squared_error: 2.8162\n",
            "Epoch 7/15\n",
            "1572/1572 [==============================] - 9s 6ms/step - loss: 2.7621 - mean_squared_error: 2.7621\n",
            "Epoch 8/15\n",
            "1572/1572 [==============================] - 7s 5ms/step - loss: 2.7302 - mean_squared_error: 2.7302\n",
            "Epoch 9/15\n",
            "1572/1572 [==============================] - 10s 6ms/step - loss: 2.7637 - mean_squared_error: 2.7637\n",
            "Epoch 10/15\n",
            "1572/1572 [==============================] - 9s 6ms/step - loss: 2.6932 - mean_squared_error: 2.6932\n",
            "Epoch 11/15\n",
            "1572/1572 [==============================] - 9s 6ms/step - loss: 2.7472 - mean_squared_error: 2.7472\n",
            "Epoch 12/15\n",
            "1572/1572 [==============================] - 8s 5ms/step - loss: 2.7427 - mean_squared_error: 2.7427\n",
            "Epoch 13/15\n",
            "1572/1572 [==============================] - 8s 5ms/step - loss: 2.7365 - mean_squared_error: 2.7365\n",
            "Epoch 14/15\n",
            "1572/1572 [==============================] - 9s 6ms/step - loss: 2.7388 - mean_squared_error: 2.7388\n",
            "Epoch 15/15\n",
            "1572/1572 [==============================] - 7s 5ms/step - loss: 2.7373 - mean_squared_error: 2.7373\n",
            "175/175 [==============================] - 1s 4ms/step\n",
            "175/175 [==============================] - 1s 4ms/step\n",
            "175/175 [==============================] - 1s 4ms/step - loss: 0.9180 - mean_squared_error: 0.9180\n",
            "[0.9180064797401428, 0.9180064797401428]\n"
          ]
        }
      ]
    },
    {
      "cell_type": "code",
      "source": [
        "model = reg.export_model()\n",
        "\n",
        "print(type(model))  # <class 'tensorflow.python.keras.engine.training.Model'>\n",
        "\n",
        "try:\n",
        "    model.save(\"model_autokeras\", save_format=\"tf\")\n",
        "except Exception:\n",
        "    model.save(\"model_autokeras.h5\")"
      ],
      "metadata": {
        "colab": {
          "base_uri": "https://localhost:8080/"
        },
        "id": "HbWL8T77XFZH",
        "outputId": "146fb333-8b04-4234-fae5-41c90fdd806e"
      },
      "execution_count": 9,
      "outputs": [
        {
          "output_type": "stream",
          "name": "stdout",
          "text": [
            "<class 'keras.src.engine.functional.Functional'>\n"
          ]
        }
      ]
    }
  ]
}